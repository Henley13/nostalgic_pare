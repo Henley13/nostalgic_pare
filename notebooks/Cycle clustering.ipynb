{
 "cells": [
  {
   "cell_type": "markdown",
   "metadata": {},
   "source": [
    "# PS Love project"
   ]
  },
  {
   "cell_type": "code",
   "execution_count": 3,
   "metadata": {
    "ExecuteTime": {
     "end_time": "2019-03-31T10:01:22.396401Z",
     "start_time": "2019-03-31T10:01:22.392726Z"
    }
   },
   "outputs": [],
   "source": [
    "import os\n",
    "\n",
    "import pandas as pd\n",
    "import numpy as np\n",
    "import matplotlib.pyplot as plt\n",
    "\n",
    "from sklearn.cluster import KMeans\n",
    "from sklearn.manifold import TSNE\n",
    "from sklearn.decomposition import PCA\n",
    "from sklearn.preprocessing import scale\n",
    "\n",
    "from datetime import datetime"
   ]
  },
  {
   "cell_type": "markdown",
   "metadata": {},
   "source": [
    "Our goal is to infer some pertinent groups of cycles based on their average length, the variability of their lenght, a potential delay, etc..."
   ]
  },
  {
   "cell_type": "markdown",
   "metadata": {
    "heading_collapsed": true
   },
   "source": [
    "## Load data"
   ]
  },
  {
   "cell_type": "code",
   "execution_count": 4,
   "metadata": {
    "ExecuteTime": {
     "end_time": "2019-03-31T10:01:22.635227Z",
     "start_time": "2019-03-31T10:01:22.630920Z"
    },
    "hidden": true
   },
   "outputs": [
    {
     "data": {
      "text/plain": [
       "['.DS_Store',\n",
       " 'Period.csv',\n",
       " 'clean_period.csv',\n",
       " 'README.md',\n",
       " 'clean_symptom.csv',\n",
       " 'User.csv',\n",
       " 'df_final.csv',\n",
       " 'Symptom.csv']"
      ]
     },
     "execution_count": 4,
     "metadata": {},
     "output_type": "execute_result"
    }
   ],
   "source": [
    "data_directory = \"/Users/arthur/hackathon_school_lab/nostalgic_pare/data\"\n",
    "os.listdir(data_directory)"
   ]
  },
  {
   "cell_type": "code",
   "execution_count": 5,
   "metadata": {
    "ExecuteTime": {
     "end_time": "2019-03-31T10:01:24.993582Z",
     "start_time": "2019-03-31T10:01:24.922191Z"
    },
    "hidden": true
   },
   "outputs": [
    {
     "name": "stdout",
     "output_type": "stream",
     "text": [
      "(13511, 23)\n",
      "Index(['user_id', 'acne', 'backache', 'bloating', 'cramp', 'diarrhea', 'dizzy',\n",
      "       'headache', 'mood', 'nausea', 'sore', 'date_clean', 'start_date',\n",
      "       'end_date', 'cycle_length', 'end_cycle', 'day_of_cycle', 'dob',\n",
      "       'cycle_length_initial', 'period_length_initial', 'age', 'symptom_id',\n",
      "       'cycle_id'],\n",
      "      dtype='object')\n"
     ]
    },
    {
     "data": {
      "text/html": [
       "<div>\n",
       "<style scoped>\n",
       "    .dataframe tbody tr th:only-of-type {\n",
       "        vertical-align: middle;\n",
       "    }\n",
       "\n",
       "    .dataframe tbody tr th {\n",
       "        vertical-align: top;\n",
       "    }\n",
       "\n",
       "    .dataframe thead th {\n",
       "        text-align: right;\n",
       "    }\n",
       "</style>\n",
       "<table border=\"1\" class=\"dataframe\">\n",
       "  <thead>\n",
       "    <tr style=\"text-align: right;\">\n",
       "      <th></th>\n",
       "      <th>user_id</th>\n",
       "      <th>acne</th>\n",
       "      <th>backache</th>\n",
       "      <th>bloating</th>\n",
       "      <th>cramp</th>\n",
       "      <th>diarrhea</th>\n",
       "      <th>dizzy</th>\n",
       "      <th>headache</th>\n",
       "      <th>mood</th>\n",
       "      <th>nausea</th>\n",
       "      <th>...</th>\n",
       "      <th>end_date</th>\n",
       "      <th>cycle_length</th>\n",
       "      <th>end_cycle</th>\n",
       "      <th>day_of_cycle</th>\n",
       "      <th>dob</th>\n",
       "      <th>cycle_length_initial</th>\n",
       "      <th>period_length_initial</th>\n",
       "      <th>age</th>\n",
       "      <th>symptom_id</th>\n",
       "      <th>cycle_id</th>\n",
       "    </tr>\n",
       "  </thead>\n",
       "  <tbody>\n",
       "    <tr>\n",
       "      <th>0</th>\n",
       "      <td>252</td>\n",
       "      <td>0</td>\n",
       "      <td>0</td>\n",
       "      <td>0</td>\n",
       "      <td>0</td>\n",
       "      <td>0</td>\n",
       "      <td>0</td>\n",
       "      <td>0</td>\n",
       "      <td>0</td>\n",
       "      <td>0</td>\n",
       "      <td>...</td>\n",
       "      <td>NaN</td>\n",
       "      <td>NaN</td>\n",
       "      <td>NaN</td>\n",
       "      <td>NaN</td>\n",
       "      <td>NaN</td>\n",
       "      <td>28</td>\n",
       "      <td>6</td>\n",
       "      <td>NaN</td>\n",
       "      <td>127</td>\n",
       "      <td>NaN</td>\n",
       "    </tr>\n",
       "    <tr>\n",
       "      <th>1</th>\n",
       "      <td>252</td>\n",
       "      <td>50</td>\n",
       "      <td>50</td>\n",
       "      <td>0</td>\n",
       "      <td>0</td>\n",
       "      <td>0</td>\n",
       "      <td>0</td>\n",
       "      <td>0</td>\n",
       "      <td>0</td>\n",
       "      <td>0</td>\n",
       "      <td>...</td>\n",
       "      <td>NaN</td>\n",
       "      <td>NaN</td>\n",
       "      <td>NaN</td>\n",
       "      <td>NaN</td>\n",
       "      <td>NaN</td>\n",
       "      <td>28</td>\n",
       "      <td>6</td>\n",
       "      <td>NaN</td>\n",
       "      <td>142</td>\n",
       "      <td>NaN</td>\n",
       "    </tr>\n",
       "    <tr>\n",
       "      <th>2</th>\n",
       "      <td>252</td>\n",
       "      <td>0</td>\n",
       "      <td>0</td>\n",
       "      <td>0</td>\n",
       "      <td>0</td>\n",
       "      <td>0</td>\n",
       "      <td>0</td>\n",
       "      <td>0</td>\n",
       "      <td>0</td>\n",
       "      <td>0</td>\n",
       "      <td>...</td>\n",
       "      <td>NaN</td>\n",
       "      <td>NaN</td>\n",
       "      <td>NaN</td>\n",
       "      <td>NaN</td>\n",
       "      <td>NaN</td>\n",
       "      <td>28</td>\n",
       "      <td>6</td>\n",
       "      <td>NaN</td>\n",
       "      <td>171</td>\n",
       "      <td>NaN</td>\n",
       "    </tr>\n",
       "    <tr>\n",
       "      <th>3</th>\n",
       "      <td>254</td>\n",
       "      <td>0</td>\n",
       "      <td>0</td>\n",
       "      <td>0</td>\n",
       "      <td>0</td>\n",
       "      <td>0</td>\n",
       "      <td>0</td>\n",
       "      <td>0</td>\n",
       "      <td>0</td>\n",
       "      <td>0</td>\n",
       "      <td>...</td>\n",
       "      <td>NaN</td>\n",
       "      <td>NaN</td>\n",
       "      <td>NaN</td>\n",
       "      <td>NaN</td>\n",
       "      <td>NaN</td>\n",
       "      <td>28</td>\n",
       "      <td>6</td>\n",
       "      <td>NaN</td>\n",
       "      <td>135</td>\n",
       "      <td>NaN</td>\n",
       "    </tr>\n",
       "    <tr>\n",
       "      <th>4</th>\n",
       "      <td>255</td>\n",
       "      <td>0</td>\n",
       "      <td>0</td>\n",
       "      <td>0</td>\n",
       "      <td>0</td>\n",
       "      <td>0</td>\n",
       "      <td>0</td>\n",
       "      <td>0</td>\n",
       "      <td>100</td>\n",
       "      <td>0</td>\n",
       "      <td>...</td>\n",
       "      <td>NaN</td>\n",
       "      <td>NaN</td>\n",
       "      <td>NaN</td>\n",
       "      <td>NaN</td>\n",
       "      <td>NaN</td>\n",
       "      <td>30</td>\n",
       "      <td>4</td>\n",
       "      <td>NaN</td>\n",
       "      <td>158</td>\n",
       "      <td>NaN</td>\n",
       "    </tr>\n",
       "  </tbody>\n",
       "</table>\n",
       "<p>5 rows × 23 columns</p>\n",
       "</div>"
      ],
      "text/plain": [
       "   user_id  acne  backache  bloating  cramp  diarrhea  dizzy  headache  mood  \\\n",
       "0      252     0         0         0      0         0      0         0     0   \n",
       "1      252    50        50         0      0         0      0         0     0   \n",
       "2      252     0         0         0      0         0      0         0     0   \n",
       "3      254     0         0         0      0         0      0         0     0   \n",
       "4      255     0         0         0      0         0      0         0   100   \n",
       "\n",
       "   nausea  ...  end_date cycle_length end_cycle day_of_cycle  dob  \\\n",
       "0       0  ...       NaN          NaN       NaN          NaN  NaN   \n",
       "1       0  ...       NaN          NaN       NaN          NaN  NaN   \n",
       "2       0  ...       NaN          NaN       NaN          NaN  NaN   \n",
       "3       0  ...       NaN          NaN       NaN          NaN  NaN   \n",
       "4       0  ...       NaN          NaN       NaN          NaN  NaN   \n",
       "\n",
       "  cycle_length_initial  period_length_initial age  symptom_id  cycle_id  \n",
       "0                   28                      6 NaN         127       NaN  \n",
       "1                   28                      6 NaN         142       NaN  \n",
       "2                   28                      6 NaN         171       NaN  \n",
       "3                   28                      6 NaN         135       NaN  \n",
       "4                   30                      4 NaN         158       NaN  \n",
       "\n",
       "[5 rows x 23 columns]"
      ]
     },
     "execution_count": 5,
     "metadata": {},
     "output_type": "execute_result"
    }
   ],
   "source": [
    "path = os.path.join(data_directory, \"df_final.csv\")\n",
    "df_final = pd.read_csv(path)\n",
    "print(df_final.shape)\n",
    "print(df_final.columns)\n",
    "df_final.head()"
   ]
  },
  {
   "cell_type": "markdown",
   "metadata": {},
   "source": [
    "## Cycle clustering"
   ]
  },
  {
   "cell_type": "code",
   "execution_count": 6,
   "metadata": {
    "ExecuteTime": {
     "end_time": "2019-03-31T10:01:28.554780Z",
     "start_time": "2019-03-31T10:01:28.328506Z"
    }
   },
   "outputs": [
    {
     "data": {
      "image/png": "[encoded data removed]",
      "text/plain": [
       "<matplotlib.figure.Figure at 0x10c0476a0>"
      ]
     },
     "metadata": {
      "needs_background": "light"
     },
     "output_type": "display_data"
    }
   ],
   "source": [
    "values = np.array(df_final[\"age\"])\n",
    "values = values[~np.isnan(values)]\n",
    "plt.figure(figsize=(7, 7))\n",
    "plt.title(\"Distribution of the age\", fontweight=\"bold\")\n",
    "plt.hist(values, bins=30, color=\"steelblue\", edgecolor='black', linewidth=1.2)\n",
    "plt.xlabel(\"Age\")\n",
    "plt.ylabel(\"Frequency\")\n",
    "plt.tight_layout()\n",
    "plt.show()"
   ]
  },
  {
   "cell_type": "markdown",
   "metadata": {},
   "source": [
    "We remove duplicate cycles (due to the fact that in df_final one cycle can appear multiple times for different symptoms declaration). Then we compute the delay of each cycle compare to their average lenght, per user."
   ]
  },
  {
   "cell_type": "code",
   "execution_count": 7,
   "metadata": {
    "ExecuteTime": {
     "end_time": "2019-03-31T10:01:40.735104Z",
     "start_time": "2019-03-31T10:01:29.252626Z"
    }
   },
   "outputs": [
    {
     "name": "stdout",
     "output_type": "stream",
     "text": [
      "(7671, 6)\n"
     ]
    },
    {
     "data": {
      "text/html": [
       "<div>\n",
       "<style scoped>\n",
       "    .dataframe tbody tr th:only-of-type {\n",
       "        vertical-align: middle;\n",
       "    }\n",
       "\n",
       "    .dataframe tbody tr th {\n",
       "        vertical-align: top;\n",
       "    }\n",
       "\n",
       "    .dataframe thead th {\n",
       "        text-align: right;\n",
       "    }\n",
       "</style>\n",
       "<table border=\"1\" class=\"dataframe\">\n",
       "  <thead>\n",
       "    <tr style=\"text-align: right;\">\n",
       "      <th></th>\n",
       "      <th>user_id</th>\n",
       "      <th>cycle_length</th>\n",
       "      <th>cycle_id</th>\n",
       "      <th>lag</th>\n",
       "      <th>cycle_length_mean</th>\n",
       "      <th>cycle_length_std</th>\n",
       "    </tr>\n",
       "  </thead>\n",
       "  <tbody>\n",
       "    <tr>\n",
       "      <th>0</th>\n",
       "      <td>252</td>\n",
       "      <td>NaN</td>\n",
       "      <td>NaN</td>\n",
       "      <td>NaN</td>\n",
       "      <td>NaN</td>\n",
       "      <td>NaN</td>\n",
       "    </tr>\n",
       "    <tr>\n",
       "      <th>3</th>\n",
       "      <td>254</td>\n",
       "      <td>NaN</td>\n",
       "      <td>NaN</td>\n",
       "      <td>NaN</td>\n",
       "      <td>NaN</td>\n",
       "      <td>NaN</td>\n",
       "    </tr>\n",
       "    <tr>\n",
       "      <th>4</th>\n",
       "      <td>255</td>\n",
       "      <td>NaN</td>\n",
       "      <td>NaN</td>\n",
       "      <td>NaN</td>\n",
       "      <td>NaN</td>\n",
       "      <td>NaN</td>\n",
       "    </tr>\n",
       "    <tr>\n",
       "      <th>5</th>\n",
       "      <td>256</td>\n",
       "      <td>NaN</td>\n",
       "      <td>NaN</td>\n",
       "      <td>NaN</td>\n",
       "      <td>NaN</td>\n",
       "      <td>NaN</td>\n",
       "    </tr>\n",
       "    <tr>\n",
       "      <th>6</th>\n",
       "      <td>257</td>\n",
       "      <td>32.0</td>\n",
       "      <td>6.0</td>\n",
       "      <td>0.0</td>\n",
       "      <td>32.0</td>\n",
       "      <td>NaN</td>\n",
       "    </tr>\n",
       "  </tbody>\n",
       "</table>\n",
       "</div>"
      ],
      "text/plain": [
       "   user_id  cycle_length  cycle_id  lag  cycle_length_mean  cycle_length_std\n",
       "0      252           NaN       NaN  NaN                NaN               NaN\n",
       "3      254           NaN       NaN  NaN                NaN               NaN\n",
       "4      255           NaN       NaN  NaN                NaN               NaN\n",
       "5      256           NaN       NaN  NaN                NaN               NaN\n",
       "6      257          32.0       6.0  0.0               32.0               NaN"
      ]
     },
     "execution_count": 7,
     "metadata": {},
     "output_type": "execute_result"
    }
   ],
   "source": [
    "# remove duplicate cycles\n",
    "df_lag_period = df_final.loc[:, [\"user_id\", \"cycle_length\", \"cycle_id\"]].drop_duplicates(subset=[\"user_id\", \"cycle_id\"])\n",
    "\n",
    "# compute the delay of each cycle\n",
    "df_lag_period = df_lag_period.assign(\n",
    "    lag=df_lag_period.loc[:, [\"user_id\", \"cycle_length\"]].groupby(\"user_id\").transform(lambda x: x - x.mean()))\n",
    "df_lag_period = df_lag_period.assign(\n",
    "    cycle_length_mean=df_lag_period.loc[:, [\"user_id\", \"cycle_length\"]].groupby(\"user_id\").transform(lambda x: x.mean()))\n",
    "df_lag_period = df_lag_period.assign(\n",
    "    cycle_length_std=df_lag_period.loc[:, [\"user_id\", \"cycle_length\"]].groupby(\"user_id\").transform(lambda x: x.std()))\n",
    "\n",
    "print(df_lag_period.shape)\n",
    "df_lag_period.head()"
   ]
  },
  {
   "cell_type": "markdown",
   "metadata": {},
   "source": [
    "We filter the users who registr at least 5 cycles."
   ]
  },
  {
   "cell_type": "code",
   "execution_count": 8,
   "metadata": {
    "ExecuteTime": {
     "end_time": "2019-03-31T10:01:40.764154Z",
     "start_time": "2019-03-31T10:01:40.736795Z"
    }
   },
   "outputs": [
    {
     "name": "stdout",
     "output_type": "stream",
     "text": [
      "(13511, 24)\n"
     ]
    },
    {
     "data": {
      "text/html": [
       "<div>\n",
       "<style scoped>\n",
       "    .dataframe tbody tr th:only-of-type {\n",
       "        vertical-align: middle;\n",
       "    }\n",
       "\n",
       "    .dataframe tbody tr th {\n",
       "        vertical-align: top;\n",
       "    }\n",
       "\n",
       "    .dataframe thead th {\n",
       "        text-align: right;\n",
       "    }\n",
       "</style>\n",
       "<table border=\"1\" class=\"dataframe\">\n",
       "  <thead>\n",
       "    <tr style=\"text-align: right;\">\n",
       "      <th></th>\n",
       "      <th>user_id</th>\n",
       "      <th>acne</th>\n",
       "      <th>backache</th>\n",
       "      <th>bloating</th>\n",
       "      <th>cramp</th>\n",
       "      <th>diarrhea</th>\n",
       "      <th>dizzy</th>\n",
       "      <th>headache</th>\n",
       "      <th>mood</th>\n",
       "      <th>nausea</th>\n",
       "      <th>...</th>\n",
       "      <th>cycle_length</th>\n",
       "      <th>end_cycle</th>\n",
       "      <th>day_of_cycle</th>\n",
       "      <th>dob</th>\n",
       "      <th>cycle_length_initial</th>\n",
       "      <th>period_length_initial</th>\n",
       "      <th>age</th>\n",
       "      <th>symptom_id</th>\n",
       "      <th>cycle_id</th>\n",
       "      <th>count</th>\n",
       "    </tr>\n",
       "  </thead>\n",
       "  <tbody>\n",
       "    <tr>\n",
       "      <th>0</th>\n",
       "      <td>252</td>\n",
       "      <td>0</td>\n",
       "      <td>0</td>\n",
       "      <td>0</td>\n",
       "      <td>0</td>\n",
       "      <td>0</td>\n",
       "      <td>0</td>\n",
       "      <td>0</td>\n",
       "      <td>0</td>\n",
       "      <td>0</td>\n",
       "      <td>...</td>\n",
       "      <td>NaN</td>\n",
       "      <td>NaN</td>\n",
       "      <td>NaN</td>\n",
       "      <td>NaN</td>\n",
       "      <td>28</td>\n",
       "      <td>6</td>\n",
       "      <td>NaN</td>\n",
       "      <td>127</td>\n",
       "      <td>NaN</td>\n",
       "      <td>1.0</td>\n",
       "    </tr>\n",
       "    <tr>\n",
       "      <th>1</th>\n",
       "      <td>252</td>\n",
       "      <td>50</td>\n",
       "      <td>50</td>\n",
       "      <td>0</td>\n",
       "      <td>0</td>\n",
       "      <td>0</td>\n",
       "      <td>0</td>\n",
       "      <td>0</td>\n",
       "      <td>0</td>\n",
       "      <td>0</td>\n",
       "      <td>...</td>\n",
       "      <td>NaN</td>\n",
       "      <td>NaN</td>\n",
       "      <td>NaN</td>\n",
       "      <td>NaN</td>\n",
       "      <td>28</td>\n",
       "      <td>6</td>\n",
       "      <td>NaN</td>\n",
       "      <td>142</td>\n",
       "      <td>NaN</td>\n",
       "      <td>1.0</td>\n",
       "    </tr>\n",
       "    <tr>\n",
       "      <th>2</th>\n",
       "      <td>252</td>\n",
       "      <td>0</td>\n",
       "      <td>0</td>\n",
       "      <td>0</td>\n",
       "      <td>0</td>\n",
       "      <td>0</td>\n",
       "      <td>0</td>\n",
       "      <td>0</td>\n",
       "      <td>0</td>\n",
       "      <td>0</td>\n",
       "      <td>...</td>\n",
       "      <td>NaN</td>\n",
       "      <td>NaN</td>\n",
       "      <td>NaN</td>\n",
       "      <td>NaN</td>\n",
       "      <td>28</td>\n",
       "      <td>6</td>\n",
       "      <td>NaN</td>\n",
       "      <td>171</td>\n",
       "      <td>NaN</td>\n",
       "      <td>1.0</td>\n",
       "    </tr>\n",
       "    <tr>\n",
       "      <th>3</th>\n",
       "      <td>254</td>\n",
       "      <td>0</td>\n",
       "      <td>0</td>\n",
       "      <td>0</td>\n",
       "      <td>0</td>\n",
       "      <td>0</td>\n",
       "      <td>0</td>\n",
       "      <td>0</td>\n",
       "      <td>0</td>\n",
       "      <td>0</td>\n",
       "      <td>...</td>\n",
       "      <td>NaN</td>\n",
       "      <td>NaN</td>\n",
       "      <td>NaN</td>\n",
       "      <td>NaN</td>\n",
       "      <td>28</td>\n",
       "      <td>6</td>\n",
       "      <td>NaN</td>\n",
       "      <td>135</td>\n",
       "      <td>NaN</td>\n",
       "      <td>1.0</td>\n",
       "    </tr>\n",
       "    <tr>\n",
       "      <th>4</th>\n",
       "      <td>255</td>\n",
       "      <td>0</td>\n",
       "      <td>0</td>\n",
       "      <td>0</td>\n",
       "      <td>0</td>\n",
       "      <td>0</td>\n",
       "      <td>0</td>\n",
       "      <td>0</td>\n",
       "      <td>100</td>\n",
       "      <td>0</td>\n",
       "      <td>...</td>\n",
       "      <td>NaN</td>\n",
       "      <td>NaN</td>\n",
       "      <td>NaN</td>\n",
       "      <td>NaN</td>\n",
       "      <td>30</td>\n",
       "      <td>4</td>\n",
       "      <td>NaN</td>\n",
       "      <td>158</td>\n",
       "      <td>NaN</td>\n",
       "      <td>1.0</td>\n",
       "    </tr>\n",
       "  </tbody>\n",
       "</table>\n",
       "<p>5 rows × 24 columns</p>\n",
       "</div>"
      ],
      "text/plain": [
       "   user_id  acne  backache  bloating  cramp  diarrhea  dizzy  headache  mood  \\\n",
       "0      252     0         0         0      0         0      0         0     0   \n",
       "1      252    50        50         0      0         0      0         0     0   \n",
       "2      252     0         0         0      0         0      0         0     0   \n",
       "3      254     0         0         0      0         0      0         0     0   \n",
       "4      255     0         0         0      0         0      0         0   100   \n",
       "\n",
       "   nausea  ...  cycle_length end_cycle day_of_cycle  dob  \\\n",
       "0       0  ...           NaN       NaN          NaN  NaN   \n",
       "1       0  ...           NaN       NaN          NaN  NaN   \n",
       "2       0  ...           NaN       NaN          NaN  NaN   \n",
       "3       0  ...           NaN       NaN          NaN  NaN   \n",
       "4       0  ...           NaN       NaN          NaN  NaN   \n",
       "\n",
       "   cycle_length_initial period_length_initial  age symptom_id  cycle_id  count  \n",
       "0                    28                     6  NaN        127       NaN    1.0  \n",
       "1                    28                     6  NaN        142       NaN    1.0  \n",
       "2                    28                     6  NaN        171       NaN    1.0  \n",
       "3                    28                     6  NaN        135       NaN    1.0  \n",
       "4                    30                     4  NaN        158       NaN    1.0  \n",
       "\n",
       "[5 rows x 24 columns]"
      ]
     },
     "execution_count": 8,
     "metadata": {},
     "output_type": "execute_result"
    }
   ],
   "source": [
    "df_final = df_final.assign(count=df_final.loc[:, [\"user_id\", \"cycle_length\"]].groupby(\"user_id\").count())\n",
    "values = np.array(df_final.loc[:, \"count\"])\n",
    "values[np.isnan(values)] = 0\n",
    "values += 1\n",
    "df_final.loc[:, \"count\"] = values\n",
    "print(df_final.shape)\n",
    "df_final.head()"
   ]
  },
  {
   "cell_type": "code",
   "execution_count": 9,
   "metadata": {
    "ExecuteTime": {
     "end_time": "2019-03-31T10:01:41.018866Z",
     "start_time": "2019-03-31T10:01:40.765853Z"
    }
   },
   "outputs": [
    {
     "data": {
      "image/png": "[encoded data removed]",
      "text/plain": [
       "<matplotlib.figure.Figure at 0x106297240>"
      ]
     },
     "metadata": {
      "needs_background": "light"
     },
     "output_type": "display_data"
    }
   ],
   "source": [
    "plt.figure(figsize=(7, 7))\n",
    "plt.title(\"Distribution of the count\", fontweight=\"bold\")\n",
    "plt.hist(df_final.loc[:, \"count\"], bins=10, color=\"steelblue\", edgecolor='black', linewidth=1.2)\n",
    "plt.xlabel(\"Count\")\n",
    "plt.ylabel(\"Frequency\")\n",
    "plt.tight_layout()\n",
    "plt.show()"
   ]
  },
  {
   "cell_type": "code",
   "execution_count": 10,
   "metadata": {
    "ExecuteTime": {
     "end_time": "2019-03-31T10:01:46.371461Z",
     "start_time": "2019-03-31T10:01:46.362245Z"
    }
   },
   "outputs": [
    {
     "data": {
      "text/plain": [
       "463"
      ]
     },
     "execution_count": 10,
     "metadata": {},
     "output_type": "execute_result"
    }
   ],
   "source": [
    "user_frequent = list(df_final.query(\"count > 5\").loc[:, \"user_id\"])\n",
    "len(user_frequent)"
   ]
  },
  {
   "cell_type": "code",
   "execution_count": 11,
   "metadata": {
    "ExecuteTime": {
     "end_time": "2019-03-31T10:01:47.033152Z",
     "start_time": "2019-03-31T10:01:47.006432Z"
    }
   },
   "outputs": [
    {
     "name": "stdout",
     "output_type": "stream",
     "text": [
      "(1023, 6)\n"
     ]
    },
    {
     "data": {
      "text/html": [
       "<div>\n",
       "<style scoped>\n",
       "    .dataframe tbody tr th:only-of-type {\n",
       "        vertical-align: middle;\n",
       "    }\n",
       "\n",
       "    .dataframe tbody tr th {\n",
       "        vertical-align: top;\n",
       "    }\n",
       "\n",
       "    .dataframe thead th {\n",
       "        text-align: right;\n",
       "    }\n",
       "</style>\n",
       "<table border=\"1\" class=\"dataframe\">\n",
       "  <thead>\n",
       "    <tr style=\"text-align: right;\">\n",
       "      <th></th>\n",
       "      <th>user_id</th>\n",
       "      <th>cycle_length</th>\n",
       "      <th>cycle_id</th>\n",
       "      <th>lag</th>\n",
       "      <th>cycle_length_mean</th>\n",
       "      <th>cycle_length_std</th>\n",
       "    </tr>\n",
       "  </thead>\n",
       "  <tbody>\n",
       "    <tr>\n",
       "      <th>405</th>\n",
       "      <td>558</td>\n",
       "      <td>24.0</td>\n",
       "      <td>405.0</td>\n",
       "      <td>0.5</td>\n",
       "      <td>23.5</td>\n",
       "      <td>0.707107</td>\n",
       "    </tr>\n",
       "    <tr>\n",
       "      <th>406</th>\n",
       "      <td>558</td>\n",
       "      <td>23.0</td>\n",
       "      <td>406.0</td>\n",
       "      <td>-0.5</td>\n",
       "      <td>23.5</td>\n",
       "      <td>0.707107</td>\n",
       "    </tr>\n",
       "    <tr>\n",
       "      <th>413</th>\n",
       "      <td>569</td>\n",
       "      <td>27.0</td>\n",
       "      <td>413.0</td>\n",
       "      <td>1.2</td>\n",
       "      <td>25.8</td>\n",
       "      <td>2.683282</td>\n",
       "    </tr>\n",
       "    <tr>\n",
       "      <th>414</th>\n",
       "      <td>569</td>\n",
       "      <td>24.0</td>\n",
       "      <td>414.0</td>\n",
       "      <td>-1.8</td>\n",
       "      <td>25.8</td>\n",
       "      <td>2.683282</td>\n",
       "    </tr>\n",
       "    <tr>\n",
       "      <th>417</th>\n",
       "      <td>569</td>\n",
       "      <td>22.0</td>\n",
       "      <td>417.0</td>\n",
       "      <td>-3.8</td>\n",
       "      <td>25.8</td>\n",
       "      <td>2.683282</td>\n",
       "    </tr>\n",
       "    <tr>\n",
       "      <th>418</th>\n",
       "      <td>569</td>\n",
       "      <td>28.0</td>\n",
       "      <td>418.0</td>\n",
       "      <td>2.2</td>\n",
       "      <td>25.8</td>\n",
       "      <td>2.683282</td>\n",
       "    </tr>\n",
       "    <tr>\n",
       "      <th>420</th>\n",
       "      <td>569</td>\n",
       "      <td>28.0</td>\n",
       "      <td>420.0</td>\n",
       "      <td>2.2</td>\n",
       "      <td>25.8</td>\n",
       "      <td>2.683282</td>\n",
       "    </tr>\n",
       "    <tr>\n",
       "      <th>450</th>\n",
       "      <td>590</td>\n",
       "      <td>26.0</td>\n",
       "      <td>450.0</td>\n",
       "      <td>0.0</td>\n",
       "      <td>26.0</td>\n",
       "      <td>0.000000</td>\n",
       "    </tr>\n",
       "    <tr>\n",
       "      <th>452</th>\n",
       "      <td>590</td>\n",
       "      <td>26.0</td>\n",
       "      <td>452.0</td>\n",
       "      <td>0.0</td>\n",
       "      <td>26.0</td>\n",
       "      <td>0.000000</td>\n",
       "    </tr>\n",
       "    <tr>\n",
       "      <th>478</th>\n",
       "      <td>602</td>\n",
       "      <td>16.0</td>\n",
       "      <td>478.0</td>\n",
       "      <td>-8.2</td>\n",
       "      <td>24.2</td>\n",
       "      <td>6.648308</td>\n",
       "    </tr>\n",
       "  </tbody>\n",
       "</table>\n",
       "</div>"
      ],
      "text/plain": [
       "     user_id  cycle_length  cycle_id  lag  cycle_length_mean  cycle_length_std\n",
       "405      558          24.0     405.0  0.5               23.5          0.707107\n",
       "406      558          23.0     406.0 -0.5               23.5          0.707107\n",
       "413      569          27.0     413.0  1.2               25.8          2.683282\n",
       "414      569          24.0     414.0 -1.8               25.8          2.683282\n",
       "417      569          22.0     417.0 -3.8               25.8          2.683282\n",
       "418      569          28.0     418.0  2.2               25.8          2.683282\n",
       "420      569          28.0     420.0  2.2               25.8          2.683282\n",
       "450      590          26.0     450.0  0.0               26.0          0.000000\n",
       "452      590          26.0     452.0  0.0               26.0          0.000000\n",
       "478      602          16.0     478.0 -8.2               24.2          6.648308"
      ]
     },
     "execution_count": 11,
     "metadata": {},
     "output_type": "execute_result"
    }
   ],
   "source": [
    "df = df_lag_period.query(\"user_id in {0}\".format(str(user_frequent)))\n",
    "df = df.dropna()\n",
    "print(df.shape)\n",
    "df.head(10)"
   ]
  },
  {
   "cell_type": "markdown",
   "metadata": {},
   "source": [
    "Some distribution plots."
   ]
  },
  {
   "cell_type": "code",
   "execution_count": 12,
   "metadata": {
    "ExecuteTime": {
     "end_time": "2019-03-31T10:01:48.019368Z",
     "start_time": "2019-03-31T10:01:47.818648Z"
    }
   },
   "outputs": [
    {
     "data": {
      "image/png": "[encoded data removed]",
      "text/plain": [
       "<matplotlib.figure.Figure at 0x10d0313c8>"
      ]
     },
     "metadata": {
      "needs_background": "light"
     },
     "output_type": "display_data"
    }
   ],
   "source": [
    "values = np.array(df[\"cycle_length_mean\"])\n",
    "values = values[~np.isnan(values)]\n",
    "plt.figure(figsize=(7, 7))\n",
    "plt.title(\"Distribution of cycle_length_mean\", fontweight=\"bold\")\n",
    "plt.hist(values, bins=30, color=\"steelblue\", edgecolor='black', linewidth=1.2)\n",
    "plt.xlabel(\"Mean\")\n",
    "plt.ylabel(\"Frequency\")\n",
    "plt.tight_layout()\n",
    "plt.show()"
   ]
  },
  {
   "cell_type": "code",
   "execution_count": 13,
   "metadata": {
    "ExecuteTime": {
     "end_time": "2019-03-31T10:01:51.423016Z",
     "start_time": "2019-03-31T10:01:51.218367Z"
    }
   },
   "outputs": [
    {
     "data": {
      "image/png": "[encoded data removed]",
      "text/plain": [
       "<matplotlib.figure.Figure at 0x10cf4a2b0>"
      ]
     },
     "metadata": {
      "needs_background": "light"
     },
     "output_type": "display_data"
    }
   ],
   "source": [
    "values = np.array(df[\"cycle_length_std\"])\n",
    "values = values[~np.isnan(values)]\n",
    "plt.figure(figsize=(7, 7))\n",
    "plt.title(\"Distribution of cycle_length_std\", fontweight=\"bold\")\n",
    "plt.hist(values, bins=30, color=\"steelblue\", edgecolor='black', linewidth=1.2)\n",
    "plt.xlabel(\"Std\")\n",
    "plt.ylabel(\"Frequency\")\n",
    "plt.tight_layout()\n",
    "plt.show()"
   ]
  },
  {
   "cell_type": "code",
   "execution_count": 14,
   "metadata": {
    "ExecuteTime": {
     "end_time": "2019-03-31T10:01:52.539157Z",
     "start_time": "2019-03-31T10:01:52.338438Z"
    }
   },
   "outputs": [
    {
     "data": {
      "image/png": "[encoded data removed]",
      "text/plain": [
       "<matplotlib.figure.Figure at 0x106302208>"
      ]
     },
     "metadata": {
      "needs_background": "light"
     },
     "output_type": "display_data"
    }
   ],
   "source": [
    "values = np.array(df[\"lag\"])\n",
    "values = values[~np.isnan(values)]\n",
    "plt.figure(figsize=(7, 7))\n",
    "plt.title(\"Distribution of the lag\", fontweight=\"bold\")\n",
    "plt.hist(values, bins=30, color=\"steelblue\", edgecolor='black', linewidth=1.2)\n",
    "plt.xlabel(\"Lag\")\n",
    "plt.ylabel(\"Frequency\")\n",
    "plt.tight_layout()\n",
    "plt.show()"
   ]
  },
  {
   "cell_type": "code",
   "execution_count": 15,
   "metadata": {
    "ExecuteTime": {
     "end_time": "2019-03-31T10:01:53.169815Z",
     "start_time": "2019-03-31T10:01:53.158579Z"
    }
   },
   "outputs": [
    {
     "name": "stdout",
     "output_type": "stream",
     "text": [
      "(1023, 6)\n"
     ]
    },
    {
     "data": {
      "text/html": [
       "<div>\n",
       "<style scoped>\n",
       "    .dataframe tbody tr th:only-of-type {\n",
       "        vertical-align: middle;\n",
       "    }\n",
       "\n",
       "    .dataframe tbody tr th {\n",
       "        vertical-align: top;\n",
       "    }\n",
       "\n",
       "    .dataframe thead th {\n",
       "        text-align: right;\n",
       "    }\n",
       "</style>\n",
       "<table border=\"1\" class=\"dataframe\">\n",
       "  <thead>\n",
       "    <tr style=\"text-align: right;\">\n",
       "      <th></th>\n",
       "      <th>user_id</th>\n",
       "      <th>cycle_length</th>\n",
       "      <th>cycle_id</th>\n",
       "      <th>lag</th>\n",
       "      <th>cycle_length_mean</th>\n",
       "      <th>cycle_length_std</th>\n",
       "    </tr>\n",
       "  </thead>\n",
       "  <tbody>\n",
       "    <tr>\n",
       "      <th>405</th>\n",
       "      <td>558</td>\n",
       "      <td>24.0</td>\n",
       "      <td>405.0</td>\n",
       "      <td>0.5</td>\n",
       "      <td>23.5</td>\n",
       "      <td>0.707107</td>\n",
       "    </tr>\n",
       "    <tr>\n",
       "      <th>406</th>\n",
       "      <td>558</td>\n",
       "      <td>23.0</td>\n",
       "      <td>406.0</td>\n",
       "      <td>-0.5</td>\n",
       "      <td>23.5</td>\n",
       "      <td>0.707107</td>\n",
       "    </tr>\n",
       "    <tr>\n",
       "      <th>413</th>\n",
       "      <td>569</td>\n",
       "      <td>27.0</td>\n",
       "      <td>413.0</td>\n",
       "      <td>1.2</td>\n",
       "      <td>25.8</td>\n",
       "      <td>2.683282</td>\n",
       "    </tr>\n",
       "    <tr>\n",
       "      <th>414</th>\n",
       "      <td>569</td>\n",
       "      <td>24.0</td>\n",
       "      <td>414.0</td>\n",
       "      <td>-1.8</td>\n",
       "      <td>25.8</td>\n",
       "      <td>2.683282</td>\n",
       "    </tr>\n",
       "    <tr>\n",
       "      <th>417</th>\n",
       "      <td>569</td>\n",
       "      <td>22.0</td>\n",
       "      <td>417.0</td>\n",
       "      <td>-3.8</td>\n",
       "      <td>25.8</td>\n",
       "      <td>2.683282</td>\n",
       "    </tr>\n",
       "  </tbody>\n",
       "</table>\n",
       "</div>"
      ],
      "text/plain": [
       "     user_id  cycle_length  cycle_id  lag  cycle_length_mean  cycle_length_std\n",
       "405      558          24.0     405.0  0.5               23.5          0.707107\n",
       "406      558          23.0     406.0 -0.5               23.5          0.707107\n",
       "413      569          27.0     413.0  1.2               25.8          2.683282\n",
       "414      569          24.0     414.0 -1.8               25.8          2.683282\n",
       "417      569          22.0     417.0 -3.8               25.8          2.683282"
      ]
     },
     "execution_count": 15,
     "metadata": {},
     "output_type": "execute_result"
    }
   ],
   "source": [
    "print(df.shape)\n",
    "df.head()"
   ]
  },
  {
   "cell_type": "markdown",
   "metadata": {},
   "source": [
    "An attempt to add user-related features (age and a priori declarations). It did not improve the clustering."
   ]
  },
  {
   "cell_type": "code",
   "execution_count": 16,
   "metadata": {
    "ExecuteTime": {
     "end_time": "2019-03-31T10:01:54.521736Z",
     "start_time": "2019-03-31T10:01:54.507127Z"
    }
   },
   "outputs": [
    {
     "name": "stdout",
     "output_type": "stream",
     "text": [
      "(3952, 4)\n"
     ]
    },
    {
     "data": {
      "text/html": [
       "<div>\n",
       "<style scoped>\n",
       "    .dataframe tbody tr th:only-of-type {\n",
       "        vertical-align: middle;\n",
       "    }\n",
       "\n",
       "    .dataframe tbody tr th {\n",
       "        vertical-align: top;\n",
       "    }\n",
       "\n",
       "    .dataframe thead th {\n",
       "        text-align: right;\n",
       "    }\n",
       "</style>\n",
       "<table border=\"1\" class=\"dataframe\">\n",
       "  <thead>\n",
       "    <tr style=\"text-align: right;\">\n",
       "      <th></th>\n",
       "      <th>user_id</th>\n",
       "      <th>age</th>\n",
       "      <th>cycle_length_initial</th>\n",
       "      <th>period_length_initial</th>\n",
       "    </tr>\n",
       "  </thead>\n",
       "  <tbody>\n",
       "    <tr>\n",
       "      <th>0</th>\n",
       "      <td>252</td>\n",
       "      <td>NaN</td>\n",
       "      <td>28</td>\n",
       "      <td>6</td>\n",
       "    </tr>\n",
       "    <tr>\n",
       "      <th>3</th>\n",
       "      <td>254</td>\n",
       "      <td>NaN</td>\n",
       "      <td>28</td>\n",
       "      <td>6</td>\n",
       "    </tr>\n",
       "    <tr>\n",
       "      <th>4</th>\n",
       "      <td>255</td>\n",
       "      <td>NaN</td>\n",
       "      <td>30</td>\n",
       "      <td>4</td>\n",
       "    </tr>\n",
       "    <tr>\n",
       "      <th>5</th>\n",
       "      <td>256</td>\n",
       "      <td>NaN</td>\n",
       "      <td>25</td>\n",
       "      <td>6</td>\n",
       "    </tr>\n",
       "    <tr>\n",
       "      <th>6</th>\n",
       "      <td>257</td>\n",
       "      <td>NaN</td>\n",
       "      <td>30</td>\n",
       "      <td>6</td>\n",
       "    </tr>\n",
       "  </tbody>\n",
       "</table>\n",
       "</div>"
      ],
      "text/plain": [
       "   user_id  age  cycle_length_initial  period_length_initial\n",
       "0      252  NaN                    28                      6\n",
       "3      254  NaN                    28                      6\n",
       "4      255  NaN                    30                      4\n",
       "5      256  NaN                    25                      6\n",
       "6      257  NaN                    30                      6"
      ]
     },
     "execution_count": 16,
     "metadata": {},
     "output_type": "execute_result"
    }
   ],
   "source": [
    "df_ = df_final.loc[:, [\"user_id\", \"age\", 'cycle_length_initial', 'period_length_initial']].drop_duplicates()\n",
    "print(df_.shape)\n",
    "df_.head()"
   ]
  },
  {
   "cell_type": "code",
   "execution_count": 17,
   "metadata": {
    "ExecuteTime": {
     "end_time": "2019-03-31T10:01:55.603225Z",
     "start_time": "2019-03-31T10:01:55.585092Z"
    }
   },
   "outputs": [
    {
     "name": "stdout",
     "output_type": "stream",
     "text": [
      "(1023, 9)\n"
     ]
    },
    {
     "data": {
      "text/html": [
       "<div>\n",
       "<style scoped>\n",
       "    .dataframe tbody tr th:only-of-type {\n",
       "        vertical-align: middle;\n",
       "    }\n",
       "\n",
       "    .dataframe tbody tr th {\n",
       "        vertical-align: top;\n",
       "    }\n",
       "\n",
       "    .dataframe thead th {\n",
       "        text-align: right;\n",
       "    }\n",
       "</style>\n",
       "<table border=\"1\" class=\"dataframe\">\n",
       "  <thead>\n",
       "    <tr style=\"text-align: right;\">\n",
       "      <th></th>\n",
       "      <th>user_id</th>\n",
       "      <th>cycle_length</th>\n",
       "      <th>cycle_id</th>\n",
       "      <th>lag</th>\n",
       "      <th>cycle_length_mean</th>\n",
       "      <th>cycle_length_std</th>\n",
       "      <th>age</th>\n",
       "      <th>cycle_length_initial</th>\n",
       "      <th>period_length_initial</th>\n",
       "    </tr>\n",
       "  </thead>\n",
       "  <tbody>\n",
       "    <tr>\n",
       "      <th>0</th>\n",
       "      <td>558</td>\n",
       "      <td>24.0</td>\n",
       "      <td>405.0</td>\n",
       "      <td>0.5</td>\n",
       "      <td>23.5</td>\n",
       "      <td>0.707107</td>\n",
       "      <td>NaN</td>\n",
       "      <td>26</td>\n",
       "      <td>6</td>\n",
       "    </tr>\n",
       "    <tr>\n",
       "      <th>1</th>\n",
       "      <td>558</td>\n",
       "      <td>23.0</td>\n",
       "      <td>406.0</td>\n",
       "      <td>-0.5</td>\n",
       "      <td>23.5</td>\n",
       "      <td>0.707107</td>\n",
       "      <td>NaN</td>\n",
       "      <td>26</td>\n",
       "      <td>6</td>\n",
       "    </tr>\n",
       "    <tr>\n",
       "      <th>2</th>\n",
       "      <td>569</td>\n",
       "      <td>27.0</td>\n",
       "      <td>413.0</td>\n",
       "      <td>1.2</td>\n",
       "      <td>25.8</td>\n",
       "      <td>2.683282</td>\n",
       "      <td>NaN</td>\n",
       "      <td>28</td>\n",
       "      <td>3</td>\n",
       "    </tr>\n",
       "    <tr>\n",
       "      <th>3</th>\n",
       "      <td>569</td>\n",
       "      <td>24.0</td>\n",
       "      <td>414.0</td>\n",
       "      <td>-1.8</td>\n",
       "      <td>25.8</td>\n",
       "      <td>2.683282</td>\n",
       "      <td>NaN</td>\n",
       "      <td>28</td>\n",
       "      <td>3</td>\n",
       "    </tr>\n",
       "    <tr>\n",
       "      <th>4</th>\n",
       "      <td>569</td>\n",
       "      <td>22.0</td>\n",
       "      <td>417.0</td>\n",
       "      <td>-3.8</td>\n",
       "      <td>25.8</td>\n",
       "      <td>2.683282</td>\n",
       "      <td>NaN</td>\n",
       "      <td>28</td>\n",
       "      <td>3</td>\n",
       "    </tr>\n",
       "  </tbody>\n",
       "</table>\n",
       "</div>"
      ],
      "text/plain": [
       "   user_id  cycle_length  cycle_id  lag  cycle_length_mean  cycle_length_std  \\\n",
       "0      558          24.0     405.0  0.5               23.5          0.707107   \n",
       "1      558          23.0     406.0 -0.5               23.5          0.707107   \n",
       "2      569          27.0     413.0  1.2               25.8          2.683282   \n",
       "3      569          24.0     414.0 -1.8               25.8          2.683282   \n",
       "4      569          22.0     417.0 -3.8               25.8          2.683282   \n",
       "\n",
       "   age  cycle_length_initial  period_length_initial  \n",
       "0  NaN                    26                      6  \n",
       "1  NaN                    26                      6  \n",
       "2  NaN                    28                      3  \n",
       "3  NaN                    28                      3  \n",
       "4  NaN                    28                      3  "
      ]
     },
     "execution_count": 17,
     "metadata": {},
     "output_type": "execute_result"
    }
   ],
   "source": [
    "df = pd.merge(df, df_,\n",
    "              left_on=\"user_id\",\n",
    "              right_on=\"user_id\",\n",
    "              how=\"left\")\n",
    "print(df.shape)\n",
    "df.head()"
   ]
  },
  {
   "cell_type": "markdown",
   "metadata": {},
   "source": [
    "Format our input numerical matrix. We rescale it, then we compute a 2D projection using PCA and T-SNE (for visualization purpose). The T-SNE projection works better."
   ]
  },
  {
   "cell_type": "code",
   "execution_count": 21,
   "metadata": {
    "ExecuteTime": {
     "end_time": "2019-03-31T10:02:47.746125Z",
     "start_time": "2019-03-31T10:02:47.740889Z"
    }
   },
   "outputs": [
    {
     "data": {
      "text/plain": [
       "(1023, 3)"
      ]
     },
     "execution_count": 21,
     "metadata": {},
     "output_type": "execute_result"
    }
   ],
   "source": [
    "X = df[['lag', 'cycle_length_mean', 'cycle_length_std']].values\n",
    "X.shape"
   ]
  },
  {
   "cell_type": "code",
   "execution_count": 22,
   "metadata": {
    "ExecuteTime": {
     "end_time": "2019-03-31T10:02:51.030944Z",
     "start_time": "2019-03-31T10:02:51.023917Z"
    }
   },
   "outputs": [
    {
     "data": {
      "text/plain": [
       "(1023, 2)"
      ]
     },
     "execution_count": 22,
     "metadata": {},
     "output_type": "execute_result"
    }
   ],
   "source": [
    "X_scaled = scale(X, axis=0)\n",
    "pca = PCA(n_components=2, random_state=13)\n",
    "X_pca = pca.fit_transform(X_scaled)\n",
    "X_pca.shape"
   ]
  },
  {
   "cell_type": "code",
   "execution_count": 23,
   "metadata": {
    "ExecuteTime": {
     "end_time": "2019-03-31T10:02:51.804071Z",
     "start_time": "2019-03-31T10:02:51.641750Z"
    }
   },
   "outputs": [
    {
     "data": {
      "image/png": "[encoded data removed]",
      "text/plain": [
       "<matplotlib.figure.Figure at 0x10d755eb8>"
      ]
     },
     "metadata": {
      "needs_background": "light"
     },
     "output_type": "display_data"
    }
   ],
   "source": [
    "plt.figure(figsize=(7, 7))\n",
    "plt.scatter(X_pca[:, 0], X_pca[:, 1])\n",
    "plt.show()"
   ]
  },
  {
   "cell_type": "code",
   "execution_count": 24,
   "metadata": {
    "ExecuteTime": {
     "end_time": "2019-03-31T10:02:58.816948Z",
     "start_time": "2019-03-31T10:02:54.371548Z"
    }
   },
   "outputs": [
    {
     "data": {
      "text/plain": [
       "(1023, 2)"
      ]
     },
     "execution_count": 24,
     "metadata": {},
     "output_type": "execute_result"
    }
   ],
   "source": [
    "tsne = TSNE(n_components=2, random_state=13)\n",
    "X_tsne = tsne.fit_transform(X)\n",
    "X_tsne.shape"
   ]
  },
  {
   "cell_type": "code",
   "execution_count": 25,
   "metadata": {
    "ExecuteTime": {
     "end_time": "2019-03-31T10:02:59.271266Z",
     "start_time": "2019-03-31T10:02:59.099950Z"
    }
   },
   "outputs": [
    {
     "data": {
      "image/png": "[encoded data removed]",
      "text/plain": [
       "<matplotlib.figure.Figure at 0x10d7ad780>"
      ]
     },
     "metadata": {
      "needs_background": "light"
     },
     "output_type": "display_data"
    }
   ],
   "source": [
    "plt.figure(figsize=(7, 7))\n",
    "plt.scatter(X_tsne[:, 0], X_tsne[:, 1], )\n",
    "plt.show()"
   ]
  },
  {
   "cell_type": "markdown",
   "metadata": {},
   "source": [
    "Fit a K-means with our data. With a bit of gridsearch, we find 5 pertinents clusters described below."
   ]
  },
  {
   "cell_type": "code",
   "execution_count": 26,
   "metadata": {
    "ExecuteTime": {
     "end_time": "2019-03-31T10:03:06.273476Z",
     "start_time": "2019-03-31T10:03:06.206650Z"
    }
   },
   "outputs": [
    {
     "data": {
      "text/plain": [
       "(1023,)"
      ]
     },
     "execution_count": 26,
     "metadata": {},
     "output_type": "execute_result"
    }
   ],
   "source": [
    "clf = KMeans(n_clusters=5, random_state=13)\n",
    "clf.fit(X_scaled)\n",
    "clusters = clf.predict(X_scaled)\n",
    "clusters.shape"
   ]
  },
  {
   "cell_type": "code",
   "execution_count": 29,
   "metadata": {
    "ExecuteTime": {
     "end_time": "2019-03-31T10:03:15.213467Z",
     "start_time": "2019-03-31T10:03:15.208922Z"
    }
   },
   "outputs": [],
   "source": [
    "df.loc[:, \"cluster\"] = clusters"
   ]
  },
  {
   "cell_type": "markdown",
   "metadata": {},
   "source": [
    "Some statistical information about our cluster (average lengths of the cycle, standard variation, etc...) to be able to label them."
   ]
  },
  {
   "cell_type": "code",
   "execution_count": 433,
   "metadata": {
    "ExecuteTime": {
     "end_time": "2019-03-31T09:47:02.517986Z",
     "start_time": "2019-03-31T09:47:02.505394Z"
    }
   },
   "outputs": [
    {
     "data": {
      "text/html": [
       "<div>\n",
       "<style scoped>\n",
       "    .dataframe tbody tr th:only-of-type {\n",
       "        vertical-align: middle;\n",
       "    }\n",
       "\n",
       "    .dataframe tbody tr th {\n",
       "        vertical-align: top;\n",
       "    }\n",
       "\n",
       "    .dataframe thead th {\n",
       "        text-align: right;\n",
       "    }\n",
       "</style>\n",
       "<table border=\"1\" class=\"dataframe\">\n",
       "  <thead>\n",
       "    <tr style=\"text-align: right;\">\n",
       "      <th></th>\n",
       "      <th>user_id</th>\n",
       "      <th>cycle_length</th>\n",
       "      <th>cycle_id</th>\n",
       "      <th>lag</th>\n",
       "      <th>cycle_length_mean</th>\n",
       "      <th>cycle_length_std</th>\n",
       "      <th>age</th>\n",
       "      <th>cycle_length_initial</th>\n",
       "      <th>period_length_initial</th>\n",
       "    </tr>\n",
       "    <tr>\n",
       "      <th>cluster</th>\n",
       "      <th></th>\n",
       "      <th></th>\n",
       "      <th></th>\n",
       "      <th></th>\n",
       "      <th></th>\n",
       "      <th></th>\n",
       "      <th></th>\n",
       "      <th></th>\n",
       "      <th></th>\n",
       "    </tr>\n",
       "  </thead>\n",
       "  <tbody>\n",
       "    <tr>\n",
       "      <th>0</th>\n",
       "      <td>175</td>\n",
       "      <td>175</td>\n",
       "      <td>175</td>\n",
       "      <td>175</td>\n",
       "      <td>175</td>\n",
       "      <td>175</td>\n",
       "      <td>8</td>\n",
       "      <td>175</td>\n",
       "      <td>175</td>\n",
       "    </tr>\n",
       "    <tr>\n",
       "      <th>1</th>\n",
       "      <td>84</td>\n",
       "      <td>84</td>\n",
       "      <td>84</td>\n",
       "      <td>84</td>\n",
       "      <td>84</td>\n",
       "      <td>84</td>\n",
       "      <td>6</td>\n",
       "      <td>84</td>\n",
       "      <td>84</td>\n",
       "    </tr>\n",
       "    <tr>\n",
       "      <th>2</th>\n",
       "      <td>72</td>\n",
       "      <td>72</td>\n",
       "      <td>72</td>\n",
       "      <td>72</td>\n",
       "      <td>72</td>\n",
       "      <td>72</td>\n",
       "      <td>8</td>\n",
       "      <td>72</td>\n",
       "      <td>72</td>\n",
       "    </tr>\n",
       "    <tr>\n",
       "      <th>3</th>\n",
       "      <td>525</td>\n",
       "      <td>525</td>\n",
       "      <td>525</td>\n",
       "      <td>525</td>\n",
       "      <td>525</td>\n",
       "      <td>525</td>\n",
       "      <td>145</td>\n",
       "      <td>525</td>\n",
       "      <td>525</td>\n",
       "    </tr>\n",
       "    <tr>\n",
       "      <th>4</th>\n",
       "      <td>167</td>\n",
       "      <td>167</td>\n",
       "      <td>167</td>\n",
       "      <td>167</td>\n",
       "      <td>167</td>\n",
       "      <td>167</td>\n",
       "      <td>11</td>\n",
       "      <td>167</td>\n",
       "      <td>167</td>\n",
       "    </tr>\n",
       "  </tbody>\n",
       "</table>\n",
       "</div>"
      ],
      "text/plain": [
       "         user_id  cycle_length  cycle_id  lag  cycle_length_mean  \\\n",
       "cluster                                                            \n",
       "0            175           175       175  175                175   \n",
       "1             84            84        84   84                 84   \n",
       "2             72            72        72   72                 72   \n",
       "3            525           525       525  525                525   \n",
       "4            167           167       167  167                167   \n",
       "\n",
       "         cycle_length_std  age  cycle_length_initial  period_length_initial  \n",
       "cluster                                                                      \n",
       "0                     175    8                   175                    175  \n",
       "1                      84    6                    84                     84  \n",
       "2                      72    8                    72                     72  \n",
       "3                     525  145                   525                    525  \n",
       "4                     167   11                   167                    167  "
      ]
     },
     "execution_count": 433,
     "metadata": {},
     "output_type": "execute_result"
    }
   ],
   "source": [
    "df.groupby(\"cluster\").count()"
   ]
  },
  {
   "cell_type": "code",
   "execution_count": 431,
   "metadata": {
    "ExecuteTime": {
     "end_time": "2019-03-31T09:44:18.302501Z",
     "start_time": "2019-03-31T09:44:18.285772Z"
    }
   },
   "outputs": [
    {
     "data": {
      "text/html": [
       "<div>\n",
       "<style scoped>\n",
       "    .dataframe tbody tr th:only-of-type {\n",
       "        vertical-align: middle;\n",
       "    }\n",
       "\n",
       "    .dataframe tbody tr th {\n",
       "        vertical-align: top;\n",
       "    }\n",
       "\n",
       "    .dataframe thead th {\n",
       "        text-align: right;\n",
       "    }\n",
       "</style>\n",
       "<table border=\"1\" class=\"dataframe\">\n",
       "  <thead>\n",
       "    <tr style=\"text-align: right;\">\n",
       "      <th></th>\n",
       "      <th>user_id</th>\n",
       "      <th>cycle_length</th>\n",
       "      <th>cycle_id</th>\n",
       "      <th>lag</th>\n",
       "      <th>cycle_length_mean</th>\n",
       "      <th>cycle_length_std</th>\n",
       "      <th>age</th>\n",
       "      <th>cycle_length_initial</th>\n",
       "      <th>period_length_initial</th>\n",
       "    </tr>\n",
       "    <tr>\n",
       "      <th>cluster</th>\n",
       "      <th></th>\n",
       "      <th></th>\n",
       "      <th></th>\n",
       "      <th></th>\n",
       "      <th></th>\n",
       "      <th></th>\n",
       "      <th></th>\n",
       "      <th></th>\n",
       "      <th></th>\n",
       "    </tr>\n",
       "  </thead>\n",
       "  <tbody>\n",
       "    <tr>\n",
       "      <th>0</th>\n",
       "      <td>2079.611429</td>\n",
       "      <td>24.725714</td>\n",
       "      <td>3667.651429</td>\n",
       "      <td>0.042173</td>\n",
       "      <td>24.683541</td>\n",
       "      <td>2.164761</td>\n",
       "      <td>33.250000</td>\n",
       "      <td>26.948571</td>\n",
       "      <td>5.468571</td>\n",
       "    </tr>\n",
       "    <tr>\n",
       "      <th>1</th>\n",
       "      <td>2159.619048</td>\n",
       "      <td>32.202381</td>\n",
       "      <td>3839.392857</td>\n",
       "      <td>4.874251</td>\n",
       "      <td>27.328130</td>\n",
       "      <td>5.852718</td>\n",
       "      <td>31.666667</td>\n",
       "      <td>27.988095</td>\n",
       "      <td>6.059524</td>\n",
       "    </tr>\n",
       "    <tr>\n",
       "      <th>2</th>\n",
       "      <td>2077.916667</td>\n",
       "      <td>21.763889</td>\n",
       "      <td>3671.041667</td>\n",
       "      <td>-5.909310</td>\n",
       "      <td>27.673199</td>\n",
       "      <td>5.554204</td>\n",
       "      <td>28.875000</td>\n",
       "      <td>28.402778</td>\n",
       "      <td>6.472222</td>\n",
       "    </tr>\n",
       "    <tr>\n",
       "      <th>3</th>\n",
       "      <td>2148.925714</td>\n",
       "      <td>28.419048</td>\n",
       "      <td>3824.022857</td>\n",
       "      <td>-0.010481</td>\n",
       "      <td>28.429529</td>\n",
       "      <td>2.322650</td>\n",
       "      <td>37.082759</td>\n",
       "      <td>27.899048</td>\n",
       "      <td>5.594286</td>\n",
       "    </tr>\n",
       "    <tr>\n",
       "      <th>4</th>\n",
       "      <td>2395.497006</td>\n",
       "      <td>33.059880</td>\n",
       "      <td>4388.838323</td>\n",
       "      <td>0.084764</td>\n",
       "      <td>32.975116</td>\n",
       "      <td>2.963545</td>\n",
       "      <td>22.181818</td>\n",
       "      <td>29.526946</td>\n",
       "      <td>5.508982</td>\n",
       "    </tr>\n",
       "  </tbody>\n",
       "</table>\n",
       "</div>"
      ],
      "text/plain": [
       "             user_id  cycle_length     cycle_id       lag  cycle_length_mean  \\\n",
       "cluster                                                                        \n",
       "0        2079.611429     24.725714  3667.651429  0.042173          24.683541   \n",
       "1        2159.619048     32.202381  3839.392857  4.874251          27.328130   \n",
       "2        2077.916667     21.763889  3671.041667 -5.909310          27.673199   \n",
       "3        2148.925714     28.419048  3824.022857 -0.010481          28.429529   \n",
       "4        2395.497006     33.059880  4388.838323  0.084764          32.975116   \n",
       "\n",
       "         cycle_length_std        age  cycle_length_initial  \\\n",
       "cluster                                                      \n",
       "0                2.164761  33.250000             26.948571   \n",
       "1                5.852718  31.666667             27.988095   \n",
       "2                5.554204  28.875000             28.402778   \n",
       "3                2.322650  37.082759             27.899048   \n",
       "4                2.963545  22.181818             29.526946   \n",
       "\n",
       "         period_length_initial  \n",
       "cluster                         \n",
       "0                     5.468571  \n",
       "1                     6.059524  \n",
       "2                     6.472222  \n",
       "3                     5.594286  \n",
       "4                     5.508982  "
      ]
     },
     "execution_count": 431,
     "metadata": {},
     "output_type": "execute_result"
    }
   ],
   "source": [
    "df.groupby(\"cluster\").mean()"
   ]
  },
  {
   "cell_type": "code",
   "execution_count": 432,
   "metadata": {
    "ExecuteTime": {
     "end_time": "2019-03-31T09:44:27.754715Z",
     "start_time": "2019-03-31T09:44:27.737545Z"
    }
   },
   "outputs": [
    {
     "data": {
      "text/html": [
       "<div>\n",
       "<style scoped>\n",
       "    .dataframe tbody tr th:only-of-type {\n",
       "        vertical-align: middle;\n",
       "    }\n",
       "\n",
       "    .dataframe tbody tr th {\n",
       "        vertical-align: top;\n",
       "    }\n",
       "\n",
       "    .dataframe thead th {\n",
       "        text-align: right;\n",
       "    }\n",
       "</style>\n",
       "<table border=\"1\" class=\"dataframe\">\n",
       "  <thead>\n",
       "    <tr style=\"text-align: right;\">\n",
       "      <th></th>\n",
       "      <th>user_id</th>\n",
       "      <th>cycle_length</th>\n",
       "      <th>cycle_id</th>\n",
       "      <th>lag</th>\n",
       "      <th>cycle_length_mean</th>\n",
       "      <th>cycle_length_std</th>\n",
       "      <th>age</th>\n",
       "      <th>cycle_length_initial</th>\n",
       "      <th>period_length_initial</th>\n",
       "    </tr>\n",
       "    <tr>\n",
       "      <th>cluster</th>\n",
       "      <th></th>\n",
       "      <th></th>\n",
       "      <th></th>\n",
       "      <th></th>\n",
       "      <th></th>\n",
       "      <th></th>\n",
       "      <th></th>\n",
       "      <th></th>\n",
       "      <th></th>\n",
       "    </tr>\n",
       "  </thead>\n",
       "  <tbody>\n",
       "    <tr>\n",
       "      <th>0</th>\n",
       "      <td>808.554889</td>\n",
       "      <td>2.748912</td>\n",
       "      <td>1755.803886</td>\n",
       "      <td>1.818074</td>\n",
       "      <td>2.061898</td>\n",
       "      <td>1.029291</td>\n",
       "      <td>1.388730</td>\n",
       "      <td>1.498154</td>\n",
       "      <td>1.796512</td>\n",
       "    </tr>\n",
       "    <tr>\n",
       "      <th>1</th>\n",
       "      <td>807.479313</td>\n",
       "      <td>3.646354</td>\n",
       "      <td>1756.263874</td>\n",
       "      <td>2.928088</td>\n",
       "      <td>2.094688</td>\n",
       "      <td>1.846365</td>\n",
       "      <td>13.396517</td>\n",
       "      <td>1.972669</td>\n",
       "      <td>2.743453</td>\n",
       "    </tr>\n",
       "    <tr>\n",
       "      <th>2</th>\n",
       "      <td>902.031850</td>\n",
       "      <td>4.126497</td>\n",
       "      <td>1974.138260</td>\n",
       "      <td>3.051770</td>\n",
       "      <td>2.300952</td>\n",
       "      <td>1.923266</td>\n",
       "      <td>12.135397</td>\n",
       "      <td>2.476138</td>\n",
       "      <td>3.020923</td>\n",
       "    </tr>\n",
       "    <tr>\n",
       "      <th>3</th>\n",
       "      <td>817.505592</td>\n",
       "      <td>2.081273</td>\n",
       "      <td>1777.502831</td>\n",
       "      <td>1.841277</td>\n",
       "      <td>0.952911</td>\n",
       "      <td>0.866531</td>\n",
       "      <td>9.367870</td>\n",
       "      <td>1.357513</td>\n",
       "      <td>1.833001</td>\n",
       "    </tr>\n",
       "    <tr>\n",
       "      <th>4</th>\n",
       "      <td>936.810649</td>\n",
       "      <td>3.035335</td>\n",
       "      <td>2053.628127</td>\n",
       "      <td>2.671308</td>\n",
       "      <td>1.506924</td>\n",
       "      <td>0.933087</td>\n",
       "      <td>0.404520</td>\n",
       "      <td>2.973405</td>\n",
       "      <td>1.627580</td>\n",
       "    </tr>\n",
       "  </tbody>\n",
       "</table>\n",
       "</div>"
      ],
      "text/plain": [
       "            user_id  cycle_length     cycle_id       lag  cycle_length_mean  \\\n",
       "cluster                                                                       \n",
       "0        808.554889      2.748912  1755.803886  1.818074           2.061898   \n",
       "1        807.479313      3.646354  1756.263874  2.928088           2.094688   \n",
       "2        902.031850      4.126497  1974.138260  3.051770           2.300952   \n",
       "3        817.505592      2.081273  1777.502831  1.841277           0.952911   \n",
       "4        936.810649      3.035335  2053.628127  2.671308           1.506924   \n",
       "\n",
       "         cycle_length_std        age  cycle_length_initial  \\\n",
       "cluster                                                      \n",
       "0                1.029291   1.388730              1.498154   \n",
       "1                1.846365  13.396517              1.972669   \n",
       "2                1.923266  12.135397              2.476138   \n",
       "3                0.866531   9.367870              1.357513   \n",
       "4                0.933087   0.404520              2.973405   \n",
       "\n",
       "         period_length_initial  \n",
       "cluster                         \n",
       "0                     1.796512  \n",
       "1                     2.743453  \n",
       "2                     3.020923  \n",
       "3                     1.833001  \n",
       "4                     1.627580  "
      ]
     },
     "execution_count": 432,
     "metadata": {},
     "output_type": "execute_result"
    }
   ],
   "source": [
    "df.groupby(\"cluster\").std()"
   ]
  },
  {
   "cell_type": "markdown",
   "metadata": {},
   "source": [
    "Our 2D visualization of our data, with the clusters colored. "
   ]
  },
  {
   "cell_type": "code",
   "execution_count": 27,
   "metadata": {
    "ExecuteTime": {
     "end_time": "2019-03-31T10:03:07.589506Z",
     "start_time": "2019-03-31T10:03:07.394555Z"
    }
   },
   "outputs": [
    {
     "data": {
      "image/png": "[encoded data removed]",
      "text/plain": [
       "<matplotlib.figure.Figure at 0x10dbd7c50>"
      ]
     },
     "metadata": {
      "needs_background": "light"
     },
     "output_type": "display_data"
    }
   ],
   "source": [
    "plt.figure(figsize=(7, 7))\n",
    "c = [\"red\", \"blue\", \"green\", \"orange\", \"cyan\"]\n",
    "for i in range(5):\n",
    "    plt.scatter(X_pca[clusters == i, 0], X_pca[clusters == i, 1], color=c[i], label=str(i))\n",
    "plt.legend()\n",
    "plt.show()"
   ]
  },
  {
   "cell_type": "code",
   "execution_count": 34,
   "metadata": {
    "ExecuteTime": {
     "end_time": "2019-03-31T10:07:02.056918Z",
     "start_time": "2019-03-31T10:07:01.601123Z"
    }
   },
   "outputs": [
    {
     "data": {
      "image/png": "[encoded data removed]",
      "text/plain": [
       "<matplotlib.figure.Figure at 0x10d808eb8>"
      ]
     },
     "metadata": {
      "needs_background": "light"
     },
     "output_type": "display_data"
    }
   ],
   "source": [
    "path_output = os.path.join(os.path.dirname(data_directory), \"cycle_clustering.png\")\n",
    "plt.figure(figsize=(10, 10))\n",
    "c = [\"firebrick\", \"steelblue\", \"forestgreen\", \"orange\", \"cyan\"]\n",
    "labels = [\"normal cycle, stable and short (25 days in average)\", \n",
    "          \"late cycle, variable\", \n",
    "          \"early cycle, variable\", \n",
    "          \"normal cycle, stable\",\n",
    "          \"normal cycle, stable and long (33 days in average)\"]\n",
    "for i in range(5):\n",
    "    plt.scatter(X_tsne[clusters == i, 0], X_tsne[clusters == i, 1], color=c[i], label=labels[i])\n",
    "plt.title(\"Clustering of cycles (2D projection with T-SNE)\", fontweight=\"bold\", fontsize=20)\n",
    "plt.legend()\n",
    "plt.xlabel(\"Component 1\", fontweight=\"bold\")\n",
    "plt.ylabel(\"Component 2\", fontweight=\"bold\")\n",
    "plt.tight_layout()\n",
    "plt.savefig(path_output)\n",
    "plt.show()"
   ]
  },
  {
   "cell_type": "markdown",
   "metadata": {
    "ExecuteTime": {
     "end_time": "2019-03-31T10:38:33.284674Z",
     "start_time": "2019-03-31T10:38:33.281154Z"
    }
   },
   "source": [
    "*Conclusion:*\n",
    "\n",
    "Our cluster of interest is the blue one, the second one (index = 1). It gathers late cycles but with a higher level of standard deviation. It may regroup some women pregnant. Crossed with additional data (like the symptoms) and with a larger and cleaner dataset some accurate information could be infer about the pregnancy status of an user."
   ]
  },
  {
   "cell_type": "markdown",
   "metadata": {},
   "source": [
    "## Can we recognize early pregnancies ?"
   ]
  },
  {
   "cell_type": "markdown",
   "metadata": {},
   "source": [
    "We want to check if our blue cluster presents a higher level of painful nausea declared. It would be a powerful insight about the pregnancy status of the user, in addition of its late cycle. Unfortunately we did not find any statistical evidence about that pattern."
   ]
  },
  {
   "cell_type": "code",
   "execution_count": 35,
   "metadata": {
    "ExecuteTime": {
     "end_time": "2019-03-31T10:12:26.927040Z",
     "start_time": "2019-03-31T10:12:26.909498Z"
    }
   },
   "outputs": [
    {
     "name": "stdout",
     "output_type": "stream",
     "text": [
      "(84, 10)\n"
     ]
    },
    {
     "data": {
      "text/html": [
       "<div>\n",
       "<style scoped>\n",
       "    .dataframe tbody tr th:only-of-type {\n",
       "        vertical-align: middle;\n",
       "    }\n",
       "\n",
       "    .dataframe tbody tr th {\n",
       "        vertical-align: top;\n",
       "    }\n",
       "\n",
       "    .dataframe thead th {\n",
       "        text-align: right;\n",
       "    }\n",
       "</style>\n",
       "<table border=\"1\" class=\"dataframe\">\n",
       "  <thead>\n",
       "    <tr style=\"text-align: right;\">\n",
       "      <th></th>\n",
       "      <th>user_id</th>\n",
       "      <th>cycle_length</th>\n",
       "      <th>cycle_id</th>\n",
       "      <th>lag</th>\n",
       "      <th>cycle_length_mean</th>\n",
       "      <th>cycle_length_std</th>\n",
       "      <th>age</th>\n",
       "      <th>cycle_length_initial</th>\n",
       "      <th>period_length_initial</th>\n",
       "      <th>cluster</th>\n",
       "    </tr>\n",
       "  </thead>\n",
       "  <tbody>\n",
       "    <tr>\n",
       "      <th>10</th>\n",
       "      <td>602</td>\n",
       "      <td>30.0</td>\n",
       "      <td>479.0</td>\n",
       "      <td>5.8</td>\n",
       "      <td>24.2</td>\n",
       "      <td>6.648308</td>\n",
       "      <td>NaN</td>\n",
       "      <td>28</td>\n",
       "      <td>16</td>\n",
       "      <td>1</td>\n",
       "    </tr>\n",
       "    <tr>\n",
       "      <th>12</th>\n",
       "      <td>602</td>\n",
       "      <td>28.0</td>\n",
       "      <td>482.0</td>\n",
       "      <td>3.8</td>\n",
       "      <td>24.2</td>\n",
       "      <td>6.648308</td>\n",
       "      <td>NaN</td>\n",
       "      <td>28</td>\n",
       "      <td>16</td>\n",
       "      <td>1</td>\n",
       "    </tr>\n",
       "    <tr>\n",
       "      <th>13</th>\n",
       "      <td>602</td>\n",
       "      <td>29.0</td>\n",
       "      <td>484.0</td>\n",
       "      <td>4.8</td>\n",
       "      <td>24.2</td>\n",
       "      <td>6.648308</td>\n",
       "      <td>NaN</td>\n",
       "      <td>28</td>\n",
       "      <td>16</td>\n",
       "      <td>1</td>\n",
       "    </tr>\n",
       "    <tr>\n",
       "      <th>29</th>\n",
       "      <td>700</td>\n",
       "      <td>38.0</td>\n",
       "      <td>643.0</td>\n",
       "      <td>4.5</td>\n",
       "      <td>33.5</td>\n",
       "      <td>6.363961</td>\n",
       "      <td>NaN</td>\n",
       "      <td>30</td>\n",
       "      <td>6</td>\n",
       "      <td>1</td>\n",
       "    </tr>\n",
       "    <tr>\n",
       "      <th>53</th>\n",
       "      <td>780</td>\n",
       "      <td>35.0</td>\n",
       "      <td>788.0</td>\n",
       "      <td>3.5</td>\n",
       "      <td>31.5</td>\n",
       "      <td>4.949747</td>\n",
       "      <td>NaN</td>\n",
       "      <td>25</td>\n",
       "      <td>5</td>\n",
       "      <td>1</td>\n",
       "    </tr>\n",
       "  </tbody>\n",
       "</table>\n",
       "</div>"
      ],
      "text/plain": [
       "    user_id  cycle_length  cycle_id  lag  cycle_length_mean  cycle_length_std  \\\n",
       "10      602          30.0     479.0  5.8               24.2          6.648308   \n",
       "12      602          28.0     482.0  3.8               24.2          6.648308   \n",
       "13      602          29.0     484.0  4.8               24.2          6.648308   \n",
       "29      700          38.0     643.0  4.5               33.5          6.363961   \n",
       "53      780          35.0     788.0  3.5               31.5          4.949747   \n",
       "\n",
       "    age  cycle_length_initial  period_length_initial  cluster  \n",
       "10  NaN                    28                     16        1  \n",
       "12  NaN                    28                     16        1  \n",
       "13  NaN                    28                     16        1  \n",
       "29  NaN                    30                      6        1  \n",
       "53  NaN                    25                      5        1  "
      ]
     },
     "execution_count": 35,
     "metadata": {},
     "output_type": "execute_result"
    }
   ],
   "source": [
    "df_1 = df.query(\"cluster == 1\")\n",
    "print(df_1.shape)\n",
    "df_1.head()"
   ]
  },
  {
   "cell_type": "code",
   "execution_count": 46,
   "metadata": {
    "ExecuteTime": {
     "end_time": "2019-03-31T10:22:09.939086Z",
     "start_time": "2019-03-31T10:22:09.935299Z"
    }
   },
   "outputs": [
    {
     "data": {
      "text/plain": [
       "84"
      ]
     },
     "execution_count": 46,
     "metadata": {},
     "output_type": "execute_result"
    }
   ],
   "source": [
    "cycle_1 = list(set(df_1[\"cycle_id\"]))\n",
    "len(cycle_1)"
   ]
  },
  {
   "cell_type": "code",
   "execution_count": 47,
   "metadata": {
    "ExecuteTime": {
     "end_time": "2019-03-31T10:22:10.329573Z",
     "start_time": "2019-03-31T10:22:10.325443Z"
    }
   },
   "outputs": [
    {
     "data": {
      "text/plain": [
       "Index(['user_id', 'acne', 'backache', 'bloating', 'cramp', 'diarrhea', 'dizzy',\n",
       "       'headache', 'mood', 'nausea', 'sore', 'date_clean', 'start_date',\n",
       "       'end_date', 'cycle_length', 'end_cycle', 'day_of_cycle', 'dob',\n",
       "       'cycle_length_initial', 'period_length_initial', 'age', 'symptom_id',\n",
       "       'cycle_id', 'count'],\n",
       "      dtype='object')"
      ]
     },
     "execution_count": 47,
     "metadata": {},
     "output_type": "execute_result"
    }
   ],
   "source": [
    "df_final.columns"
   ]
  },
  {
   "cell_type": "markdown",
   "metadata": {},
   "source": [
    "We compute the average value of the declared symptom scores for each cycle (several declarations are possible per cycle). Then we compute a total average for each symptom to get a score per symptom for the full cluster."
   ]
  },
  {
   "cell_type": "code",
   "execution_count": 53,
   "metadata": {
    "ExecuteTime": {
     "end_time": "2019-03-31T10:23:13.474942Z",
     "start_time": "2019-03-31T10:23:13.460405Z"
    }
   },
   "outputs": [
    {
     "name": "stdout",
     "output_type": "stream",
     "text": [
      "(135, 10)\n",
      "(10,)\n"
     ]
    }
   ],
   "source": [
    "df_ = df_final.query(\"cycle_id in {0}\".format(str(cycle_1)))\n",
    "df_ = df_.loc[:, ['acne', 'backache', 'bloating', 'cramp', 'diarrhea', 'dizzy',\n",
    "                  'headache', 'mood', 'nausea', 'sore', 'date_clean']].groupby(\"date_clean\").mean()\n",
    "df_ = df_.replace(0, np.nan)\n",
    "scores_symptoms = df_.loc[:, ['acne', 'backache', 'bloating', 'cramp', 'diarrhea', 'dizzy',\n",
    "                              'headache', 'mood', 'nausea', 'sore']].values\n",
    "print(scores_symptoms.shape)\n",
    "scores_symptoms_mean = np.nanmean(scores_symptoms, axis=0)\n",
    "print(scores_symptoms_mean.shape)"
   ]
  },
  {
   "cell_type": "code",
   "execution_count": 56,
   "metadata": {
    "ExecuteTime": {
     "end_time": "2019-03-31T10:25:09.279766Z",
     "start_time": "2019-03-31T10:25:09.275905Z"
    }
   },
   "outputs": [
    {
     "data": {
      "text/plain": [
       "array([[32.49152542, 42.02614379, 45.47522523, 46.86403509, 40.42666667,\n",
       "        34.63793103, 40.83888889, 50.625     , 42.6       , 46.15306122]])"
      ]
     },
     "execution_count": 56,
     "metadata": {},
     "output_type": "execute_result"
    }
   ],
   "source": [
    "scores_symptoms_mean = scores_symptoms_mean.reshape(1, 10)\n",
    "scores_symptoms_mean"
   ]
  },
  {
   "cell_type": "markdown",
   "metadata": {},
   "source": [
    "The result."
   ]
  },
  {
   "cell_type": "code",
   "execution_count": 59,
   "metadata": {
    "ExecuteTime": {
     "end_time": "2019-03-31T10:26:27.367311Z",
     "start_time": "2019-03-31T10:26:27.353891Z"
    }
   },
   "outputs": [
    {
     "data": {
      "text/html": [
       "<div>\n",
       "<style scoped>\n",
       "    .dataframe tbody tr th:only-of-type {\n",
       "        vertical-align: middle;\n",
       "    }\n",
       "\n",
       "    .dataframe tbody tr th {\n",
       "        vertical-align: top;\n",
       "    }\n",
       "\n",
       "    .dataframe thead th {\n",
       "        text-align: right;\n",
       "    }\n",
       "</style>\n",
       "<table border=\"1\" class=\"dataframe\">\n",
       "  <thead>\n",
       "    <tr style=\"text-align: right;\">\n",
       "      <th></th>\n",
       "      <th>acne</th>\n",
       "      <th>backache</th>\n",
       "      <th>bloating</th>\n",
       "      <th>cramp</th>\n",
       "      <th>diarrhea</th>\n",
       "      <th>dizzy</th>\n",
       "      <th>headache</th>\n",
       "      <th>mood</th>\n",
       "      <th>nausea</th>\n",
       "      <th>sore</th>\n",
       "    </tr>\n",
       "  </thead>\n",
       "  <tbody>\n",
       "    <tr>\n",
       "      <th>0</th>\n",
       "      <td>32.491525</td>\n",
       "      <td>42.026144</td>\n",
       "      <td>45.475225</td>\n",
       "      <td>46.864035</td>\n",
       "      <td>40.426667</td>\n",
       "      <td>34.637931</td>\n",
       "      <td>40.838889</td>\n",
       "      <td>50.625</td>\n",
       "      <td>42.6</td>\n",
       "      <td>46.153061</td>\n",
       "    </tr>\n",
       "  </tbody>\n",
       "</table>\n",
       "</div>"
      ],
      "text/plain": [
       "        acne   backache   bloating      cramp   diarrhea      dizzy  \\\n",
       "0  32.491525  42.026144  45.475225  46.864035  40.426667  34.637931   \n",
       "\n",
       "    headache    mood  nausea       sore  \n",
       "0  40.838889  50.625    42.6  46.153061  "
      ]
     },
     "execution_count": 59,
     "metadata": {},
     "output_type": "execute_result"
    }
   ],
   "source": [
    "features = ['acne', 'backache', 'bloating', 'cramp', 'diarrhea', 'dizzy', \n",
    "            'headache', 'mood', 'nausea', 'sore']\n",
    "pd.DataFrame(scores_symptoms_mean, columns=features)"
   ]
  },
  {
   "cell_type": "code",
   "execution_count": null,
   "metadata": {},
   "outputs": [],
   "source": []
  }
 ],
 "metadata": {
  "kernelspec": {
   "display_name": "Python [conda env:hack_school_lab]",
   "language": "python",
   "name": "conda-env-hack_school_lab-py"
  },
  "language_info": {
   "codemirror_mode": {
    "name": "ipython",
    "version": 3
   },
   "file_extension": ".py",
   "mimetype": "text/x-python",
   "name": "python",
   "nbconvert_exporter": "python",
   "pygments_lexer": "ipython3",
   "version": "3.6.8"
  }
 },
 "nbformat": 4,
 "nbformat_minor": 2
}
